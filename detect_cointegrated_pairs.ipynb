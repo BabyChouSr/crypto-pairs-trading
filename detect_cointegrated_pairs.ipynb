{
 "cells": [
  {
   "cell_type": "code",
   "execution_count": 31,
   "metadata": {},
   "outputs": [],
   "source": [
    "import pandas as pd\n",
    "from statsmodels.tsa.stattools import coint\n",
    "from itertools import combinations\n",
    "import matplotlib.pyplot as plt\n",
    "import numpy as np"
   ]
  },
  {
   "cell_type": "code",
   "execution_count": 20,
   "metadata": {},
   "outputs": [],
   "source": [
    "SIZE = 1000"
   ]
  },
  {
   "cell_type": "code",
   "execution_count": 36,
   "metadata": {},
   "outputs": [
    {
     "data": {
      "text/html": [
       "<div>\n",
       "<style scoped>\n",
       "    .dataframe tbody tr th:only-of-type {\n",
       "        vertical-align: middle;\n",
       "    }\n",
       "\n",
       "    .dataframe tbody tr th {\n",
       "        vertical-align: top;\n",
       "    }\n",
       "\n",
       "    .dataframe thead th {\n",
       "        text-align: right;\n",
       "    }\n",
       "</style>\n",
       "<table border=\"1\" class=\"dataframe\">\n",
       "  <thead>\n",
       "    <tr style=\"text-align: right;\">\n",
       "      <th></th>\n",
       "      <th>time</th>\n",
       "      <th>btc_price</th>\n",
       "      <th>eth_price</th>\n",
       "      <th>ltc_price</th>\n",
       "      <th>neo_price</th>\n",
       "      <th>xmr_price</th>\n",
       "      <th>xrp_price</th>\n",
       "      <th>zec_price</th>\n",
       "    </tr>\n",
       "  </thead>\n",
       "  <tbody>\n",
       "    <tr>\n",
       "      <th>0</th>\n",
       "      <td>2022-01-01 08:00:00</td>\n",
       "      <td>47203.308183</td>\n",
       "      <td>3715.50000</td>\n",
       "      <td>148.10</td>\n",
       "      <td>26.249000</td>\n",
       "      <td>243.970000</td>\n",
       "      <td>0.84093</td>\n",
       "      <td>NaN</td>\n",
       "    </tr>\n",
       "    <tr>\n",
       "      <th>15</th>\n",
       "      <td>2022-01-01 08:15:00</td>\n",
       "      <td>47238.158052</td>\n",
       "      <td>3719.90000</td>\n",
       "      <td>148.57</td>\n",
       "      <td>26.257250</td>\n",
       "      <td>243.710000</td>\n",
       "      <td>0.84240</td>\n",
       "      <td>148.526667</td>\n",
       "    </tr>\n",
       "    <tr>\n",
       "      <th>30</th>\n",
       "      <td>2022-01-01 08:30:00</td>\n",
       "      <td>47275.000000</td>\n",
       "      <td>3722.30000</td>\n",
       "      <td>148.51</td>\n",
       "      <td>26.249000</td>\n",
       "      <td>243.275000</td>\n",
       "      <td>0.84149</td>\n",
       "      <td>148.270000</td>\n",
       "    </tr>\n",
       "    <tr>\n",
       "      <th>44</th>\n",
       "      <td>2022-01-01 08:45:00</td>\n",
       "      <td>47248.000000</td>\n",
       "      <td>3726.41216</td>\n",
       "      <td>148.24</td>\n",
       "      <td>26.247750</td>\n",
       "      <td>244.823333</td>\n",
       "      <td>0.84170</td>\n",
       "      <td>148.448750</td>\n",
       "    </tr>\n",
       "    <tr>\n",
       "      <th>59</th>\n",
       "      <td>2022-01-01 09:00:00</td>\n",
       "      <td>47160.000000</td>\n",
       "      <td>3724.80000</td>\n",
       "      <td>148.12</td>\n",
       "      <td>26.219625</td>\n",
       "      <td>244.387500</td>\n",
       "      <td>0.83961</td>\n",
       "      <td>147.772000</td>\n",
       "    </tr>\n",
       "  </tbody>\n",
       "</table>\n",
       "</div>"
      ],
      "text/plain": [
       "                  time     btc_price   eth_price  ltc_price  neo_price  \\\n",
       "0  2022-01-01 08:00:00  47203.308183  3715.50000     148.10  26.249000   \n",
       "15 2022-01-01 08:15:00  47238.158052  3719.90000     148.57  26.257250   \n",
       "30 2022-01-01 08:30:00  47275.000000  3722.30000     148.51  26.249000   \n",
       "44 2022-01-01 08:45:00  47248.000000  3726.41216     148.24  26.247750   \n",
       "59 2022-01-01 09:00:00  47160.000000  3724.80000     148.12  26.219625   \n",
       "\n",
       "     xmr_price  xrp_price   zec_price  \n",
       "0   243.970000    0.84093         NaN  \n",
       "15  243.710000    0.84240  148.526667  \n",
       "30  243.275000    0.84149  148.270000  \n",
       "44  244.823333    0.84170  148.448750  \n",
       "59  244.387500    0.83961  147.772000  "
      ]
     },
     "execution_count": 36,
     "metadata": {},
     "output_type": "execute_result"
    }
   ],
   "source": [
    "# Read in the data file \n",
    "df = pd.read_csv(\"all_prices.csv\", parse_dates = [\"time\"])\n",
    "start_date = '2022-01-01'  # extract the date from filename here\n",
    "end_date = '2022-12-01'\n",
    "\n",
    "# Get every row from the start date to the end data in 15 minute intervals\n",
    "df = df[(df['time'] > start_date) & (df['time'] < end_date)]\n",
    "df = df[df['time'].dt.minute % 15 == 0]\n",
    "df.head()"
   ]
  },
  {
   "cell_type": "code",
   "execution_count": 43,
   "metadata": {},
   "outputs": [
    {
     "data": {
      "text/html": [
       "<div>\n",
       "<style scoped>\n",
       "    .dataframe tbody tr th:only-of-type {\n",
       "        vertical-align: middle;\n",
       "    }\n",
       "\n",
       "    .dataframe tbody tr th {\n",
       "        vertical-align: top;\n",
       "    }\n",
       "\n",
       "    .dataframe thead th {\n",
       "        text-align: right;\n",
       "    }\n",
       "</style>\n",
       "<table border=\"1\" class=\"dataframe\">\n",
       "  <thead>\n",
       "    <tr style=\"text-align: right;\">\n",
       "      <th></th>\n",
       "      <th>time</th>\n",
       "      <th>btc_price</th>\n",
       "      <th>eth_price</th>\n",
       "      <th>ltc_price</th>\n",
       "      <th>neo_price</th>\n",
       "      <th>xmr_price</th>\n",
       "      <th>xrp_price</th>\n",
       "      <th>zec_price</th>\n",
       "    </tr>\n",
       "  </thead>\n",
       "  <tbody>\n",
       "    <tr>\n",
       "      <th>456853</th>\n",
       "      <td>2022-11-16 00:15:00</td>\n",
       "      <td>16836.0</td>\n",
       "      <td>1247.7</td>\n",
       "      <td>57.865000</td>\n",
       "      <td>6.788867</td>\n",
       "      <td>128.463333</td>\n",
       "      <td>0.38418</td>\n",
       "      <td>40.666000</td>\n",
       "    </tr>\n",
       "    <tr>\n",
       "      <th>456868</th>\n",
       "      <td>2022-11-16 00:30:00</td>\n",
       "      <td>16804.0</td>\n",
       "      <td>1249.8</td>\n",
       "      <td>57.814000</td>\n",
       "      <td>6.761700</td>\n",
       "      <td>128.885000</td>\n",
       "      <td>0.38262</td>\n",
       "      <td>40.491000</td>\n",
       "    </tr>\n",
       "    <tr>\n",
       "      <th>456883</th>\n",
       "      <td>2022-11-16 00:45:00</td>\n",
       "      <td>16799.0</td>\n",
       "      <td>1251.5</td>\n",
       "      <td>57.816000</td>\n",
       "      <td>6.774800</td>\n",
       "      <td>128.860000</td>\n",
       "      <td>0.38346</td>\n",
       "      <td>40.662000</td>\n",
       "    </tr>\n",
       "    <tr>\n",
       "      <th>456898</th>\n",
       "      <td>2022-11-16 01:00:00</td>\n",
       "      <td>16781.0</td>\n",
       "      <td>1252.4</td>\n",
       "      <td>57.752000</td>\n",
       "      <td>6.763300</td>\n",
       "      <td>128.775000</td>\n",
       "      <td>0.38290</td>\n",
       "      <td>40.625333</td>\n",
       "    </tr>\n",
       "    <tr>\n",
       "      <th>456913</th>\n",
       "      <td>2022-11-16 01:15:00</td>\n",
       "      <td>16790.0</td>\n",
       "      <td>1255.8</td>\n",
       "      <td>58.228429</td>\n",
       "      <td>6.793533</td>\n",
       "      <td>129.013333</td>\n",
       "      <td>0.38259</td>\n",
       "      <td>40.696000</td>\n",
       "    </tr>\n",
       "  </tbody>\n",
       "</table>\n",
       "</div>"
      ],
      "text/plain": [
       "                      time  btc_price  eth_price  ltc_price  neo_price  \\\n",
       "456853 2022-11-16 00:15:00    16836.0     1247.7  57.865000   6.788867   \n",
       "456868 2022-11-16 00:30:00    16804.0     1249.8  57.814000   6.761700   \n",
       "456883 2022-11-16 00:45:00    16799.0     1251.5  57.816000   6.774800   \n",
       "456898 2022-11-16 01:00:00    16781.0     1252.4  57.752000   6.763300   \n",
       "456913 2022-11-16 01:15:00    16790.0     1255.8  58.228429   6.793533   \n",
       "\n",
       "         xmr_price  xrp_price  zec_price  \n",
       "456853  128.463333    0.38418  40.666000  \n",
       "456868  128.885000    0.38262  40.491000  \n",
       "456883  128.860000    0.38346  40.662000  \n",
       "456898  128.775000    0.38290  40.625333  \n",
       "456913  129.013333    0.38259  40.696000  "
      ]
     },
     "execution_count": 43,
     "metadata": {},
     "output_type": "execute_result"
    }
   ],
   "source": [
    "df = df.tail(SIZE)\n",
    "df.head()"
   ]
  },
  {
   "cell_type": "code",
   "execution_count": 39,
   "metadata": {},
   "outputs": [
    {
     "data": {
      "text/html": [
       "<div>\n",
       "<style scoped>\n",
       "    .dataframe tbody tr th:only-of-type {\n",
       "        vertical-align: middle;\n",
       "    }\n",
       "\n",
       "    .dataframe tbody tr th {\n",
       "        vertical-align: top;\n",
       "    }\n",
       "\n",
       "    .dataframe thead th {\n",
       "        text-align: right;\n",
       "    }\n",
       "</style>\n",
       "<table border=\"1\" class=\"dataframe\">\n",
       "  <thead>\n",
       "    <tr style=\"text-align: right;\">\n",
       "      <th></th>\n",
       "      <th>btc_price</th>\n",
       "      <th>eth_price</th>\n",
       "      <th>ltc_price</th>\n",
       "      <th>neo_price</th>\n",
       "      <th>xmr_price</th>\n",
       "      <th>xrp_price</th>\n",
       "      <th>zec_price</th>\n",
       "    </tr>\n",
       "  </thead>\n",
       "  <tbody>\n",
       "    <tr>\n",
       "      <th>456853</th>\n",
       "      <td>16836.0</td>\n",
       "      <td>1247.7</td>\n",
       "      <td>57.865000</td>\n",
       "      <td>6.788867</td>\n",
       "      <td>128.463333</td>\n",
       "      <td>0.38418</td>\n",
       "      <td>40.666000</td>\n",
       "    </tr>\n",
       "    <tr>\n",
       "      <th>456868</th>\n",
       "      <td>16804.0</td>\n",
       "      <td>1249.8</td>\n",
       "      <td>57.814000</td>\n",
       "      <td>6.761700</td>\n",
       "      <td>128.885000</td>\n",
       "      <td>0.38262</td>\n",
       "      <td>40.491000</td>\n",
       "    </tr>\n",
       "    <tr>\n",
       "      <th>456883</th>\n",
       "      <td>16799.0</td>\n",
       "      <td>1251.5</td>\n",
       "      <td>57.816000</td>\n",
       "      <td>6.774800</td>\n",
       "      <td>128.860000</td>\n",
       "      <td>0.38346</td>\n",
       "      <td>40.662000</td>\n",
       "    </tr>\n",
       "    <tr>\n",
       "      <th>456898</th>\n",
       "      <td>16781.0</td>\n",
       "      <td>1252.4</td>\n",
       "      <td>57.752000</td>\n",
       "      <td>6.763300</td>\n",
       "      <td>128.775000</td>\n",
       "      <td>0.38290</td>\n",
       "      <td>40.625333</td>\n",
       "    </tr>\n",
       "    <tr>\n",
       "      <th>456913</th>\n",
       "      <td>16790.0</td>\n",
       "      <td>1255.8</td>\n",
       "      <td>58.228429</td>\n",
       "      <td>6.793533</td>\n",
       "      <td>129.013333</td>\n",
       "      <td>0.38259</td>\n",
       "      <td>40.696000</td>\n",
       "    </tr>\n",
       "  </tbody>\n",
       "</table>\n",
       "</div>"
      ],
      "text/plain": [
       "        btc_price  eth_price  ltc_price  neo_price   xmr_price  xrp_price  \\\n",
       "456853    16836.0     1247.7  57.865000   6.788867  128.463333    0.38418   \n",
       "456868    16804.0     1249.8  57.814000   6.761700  128.885000    0.38262   \n",
       "456883    16799.0     1251.5  57.816000   6.774800  128.860000    0.38346   \n",
       "456898    16781.0     1252.4  57.752000   6.763300  128.775000    0.38290   \n",
       "456913    16790.0     1255.8  58.228429   6.793533  129.013333    0.38259   \n",
       "\n",
       "        zec_price  \n",
       "456853  40.666000  \n",
       "456868  40.491000  \n",
       "456883  40.662000  \n",
       "456898  40.625333  \n",
       "456913  40.696000  "
      ]
     },
     "execution_count": 39,
     "metadata": {},
     "output_type": "execute_result"
    }
   ],
   "source": [
    "prices_df = df.drop(\"time\", axis = 1)\n",
    "prices_df.dropna(axis = 1, inplace = True)\n",
    "prices_df.head()"
   ]
  },
  {
   "cell_type": "code",
   "execution_count": 40,
   "metadata": {},
   "outputs": [],
   "source": [
    "def engle_granger(ticker1, ticker2, threshold):\n",
    "    \"\"\"Returns true if we reject the null hypothesis and therefore there is cointegration\"\"\"\n",
    "    test_result = coint(prices_df[ticker1], prices_df[ticker2])\n",
    "    return test_result[1] <= threshold"
   ]
  },
  {
   "cell_type": "code",
   "execution_count": 41,
   "metadata": {},
   "outputs": [
    {
     "name": "stdout",
     "output_type": "stream",
     "text": [
      "Found cointegrated pair: btc_price and eth_price\n",
      "Found cointegrated pair: neo_price and xmr_price\n",
      "Found cointegrated pair: xmr_price and xrp_price\n",
      "Found cointegrated pair: xmr_price and zec_price\n"
     ]
    }
   ],
   "source": [
    "cointegrated_pairs = []\n",
    "for u, v in combinations(prices_df.columns, 2):\n",
    "        # print(f\"Testing {u} and {v}\")\n",
    "        if u != v:\n",
    "            if (engle_granger(u, v, 0.20)):\n",
    "                print(f\"Found cointegrated pair: {u} and {v}\")\n",
    "                cointegrated_pairs.append((u, v))"
   ]
  },
  {
   "cell_type": "code",
   "execution_count": 46,
   "metadata": {},
   "outputs": [
    {
     "data": {
      "image/png": "[encoded data removed]",
      "text/plain": [
       "<Figure size 432x288 with 1 Axes>"
      ]
     },
     "metadata": {
      "needs_background": "light"
     },
     "output_type": "display_data"
    },
    {
     "data": {
      "image/png": "[encoded data removed]",
      "text/plain": [
       "<Figure size 432x288 with 1 Axes>"
      ]
     },
     "metadata": {
      "needs_background": "light"
     },
     "output_type": "display_data"
    },
    {
     "data": {
      "image/png": "[encoded data removed]",
      "text/plain": [
       "<Figure size 432x288 with 1 Axes>"
      ]
     },
     "metadata": {
      "needs_background": "light"
     },
     "output_type": "display_data"
    },
    {
     "data": {
      "image/png": "[encoded data removed]",
      "text/plain": [
       "<Figure size 432x288 with 1 Axes>"
      ]
     },
     "metadata": {
      "needs_background": "light"
     },
     "output_type": "display_data"
    }
   ],
   "source": [
    "# Plot the cointegrated pairs\n",
    "for pair in cointegrated_pairs:\n",
    "    plt.figure(figsize = (6, 4))\n",
    "    plt.plot(np.log(prices_df[pair[0]]), label = pair[0])\n",
    "    plt.plot(np.log(prices_df[pair[1]]), label = pair[1])\n",
    "    plt.legend()\n",
    "    plt.show()\n",
    "plt.show()"
   ]
  },
  {
   "cell_type": "code",
   "execution_count": null,
   "metadata": {},
   "outputs": [],
   "source": []
  }
 ],
 "metadata": {
  "kernelspec": {
   "display_name": "Python 3.8.8 ('base')",
   "language": "python",
   "name": "python3"
  },
  "language_info": {
   "codemirror_mode": {
    "name": "ipython",
    "version": 3
   },
   "file_extension": ".py",
   "mimetype": "text/x-python",
   "name": "python",
   "nbconvert_exporter": "python",
   "pygments_lexer": "ipython3",
   "version": "3.8.8"
  },
  "orig_nbformat": 4,
  "vscode": {
   "interpreter": {
    "hash": "3a08e08fd294ac885f4641f577411b70b09ed9f084debb702e8d86e4a0f75dfd"
   }
  }
 },
 "nbformat": 4,
 "nbformat_minor": 2
}
