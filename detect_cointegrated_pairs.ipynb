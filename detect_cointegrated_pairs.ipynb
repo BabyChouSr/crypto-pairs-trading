{
 "cells": [
  {
   "cell_type": "code",
   "execution_count": 31,
   "metadata": {},
   "outputs": [],
   "source": [
    "import pandas as pd\n",
    "from statsmodels.tsa.stattools import coint\n",
    "from itertools import combinations\n",
    "import matplotlib.pyplot as plt\n",
    "import numpy as np"
   ]
  },
  {
   "cell_type": "code",
   "execution_count": 20,
   "metadata": {},
   "outputs": [],
   "source": [
    "SIZE = 1000"
   ]
  },
  {
   "cell_type": "code",
   "execution_count": 6,
   "metadata": {},
   "outputs": [
    {
     "data": {
      "text/html": [
       "<div>\n",
       "<style scoped>\n",
       "    .dataframe tbody tr th:only-of-type {\n",
       "        vertical-align: middle;\n",
       "    }\n",
       "\n",
       "    .dataframe tbody tr th {\n",
       "        vertical-align: top;\n",
       "    }\n",
       "\n",
       "    .dataframe thead th {\n",
       "        text-align: right;\n",
       "    }\n",
       "</style>\n",
       "<table border=\"1\" class=\"dataframe\">\n",
       "  <thead>\n",
       "    <tr style=\"text-align: right;\">\n",
       "      <th></th>\n",
       "      <th>btc_price</th>\n",
       "      <th>eth_price</th>\n",
       "      <th>ltc_price</th>\n",
       "      <th>neo_price</th>\n",
       "      <th>xmr_price</th>\n",
       "      <th>xrp_price</th>\n",
       "      <th>zec_price</th>\n",
       "    </tr>\n",
       "  </thead>\n",
       "  <tbody>\n",
       "    <tr>\n",
       "      <th>435286</th>\n",
       "      <td>20481.0</td>\n",
       "      <td>1571.3</td>\n",
       "      <td>55.0585</td>\n",
       "      <td>8.53345</td>\n",
       "      <td>149.72</td>\n",
       "      <td>0.46406</td>\n",
       "      <td>52.6460</td>\n",
       "    </tr>\n",
       "    <tr>\n",
       "      <th>435287</th>\n",
       "      <td>20479.0</td>\n",
       "      <td>1571.6</td>\n",
       "      <td>55.1110</td>\n",
       "      <td>8.53900</td>\n",
       "      <td>149.85</td>\n",
       "      <td>0.46413</td>\n",
       "      <td>52.6750</td>\n",
       "    </tr>\n",
       "    <tr>\n",
       "      <th>435288</th>\n",
       "      <td>20487.0</td>\n",
       "      <td>1574.0</td>\n",
       "      <td>55.1720</td>\n",
       "      <td>8.54835</td>\n",
       "      <td>150.18</td>\n",
       "      <td>0.46459</td>\n",
       "      <td>52.7040</td>\n",
       "    </tr>\n",
       "    <tr>\n",
       "      <th>435289</th>\n",
       "      <td>20489.0</td>\n",
       "      <td>1573.7</td>\n",
       "      <td>55.2310</td>\n",
       "      <td>8.55770</td>\n",
       "      <td>150.07</td>\n",
       "      <td>0.46411</td>\n",
       "      <td>52.7165</td>\n",
       "    </tr>\n",
       "    <tr>\n",
       "      <th>435290</th>\n",
       "      <td>20476.0</td>\n",
       "      <td>1572.1</td>\n",
       "      <td>55.1610</td>\n",
       "      <td>8.55360</td>\n",
       "      <td>150.29</td>\n",
       "      <td>0.46341</td>\n",
       "      <td>52.7290</td>\n",
       "    </tr>\n",
       "  </tbody>\n",
       "</table>\n",
       "</div>"
      ],
      "text/plain": [
       "        btc_price  eth_price  ltc_price  neo_price  xmr_price  xrp_price  \\\n",
       "435286    20481.0     1571.3    55.0585    8.53345     149.72    0.46406   \n",
       "435287    20479.0     1571.6    55.1110    8.53900     149.85    0.46413   \n",
       "435288    20487.0     1574.0    55.1720    8.54835     150.18    0.46459   \n",
       "435289    20489.0     1573.7    55.2310    8.55770     150.07    0.46411   \n",
       "435290    20476.0     1572.1    55.1610    8.55360     150.29    0.46341   \n",
       "\n",
       "        zec_price  \n",
       "435286    52.6460  \n",
       "435287    52.6750  \n",
       "435288    52.7040  \n",
       "435289    52.7165  \n",
       "435290    52.7290  "
      ]
     },
     "execution_count": 6,
     "metadata": {},
     "output_type": "execute_result"
    }
   ],
   "source": [
    "# Read in the data file \n",
    "df = pd.read_csv(\"all_prices.csv\", parse_dates = [\"time\"])\n",
    "df = df[(df['time'] > '2022-11-01') & (df['time'] < '2022-12-01')]\n",
    "prices_df = df.drop(\"time\", axis = 1)\n",
    "prices_df.dropna(axis = 1, inplace = True)\n",
    "prices_df.head()"
   ]
  },
  {
   "cell_type": "code",
   "execution_count": 17,
   "metadata": {},
   "outputs": [],
   "source": [
    "prices_df = prices_df.tail(SIZE)"
   ]
  },
  {
   "cell_type": "code",
   "execution_count": 18,
   "metadata": {},
   "outputs": [],
   "source": [
    "def engle_granger(ticker1, ticker2, threshold):\n",
    "    \"\"\"Returns true if we reject the null hypothesis and therefore there is cointegration\"\"\"\n",
    "    test_result = coint(prices_df[ticker1], prices_df[ticker2])\n",
    "    return test_result[1] <= threshold"
   ]
  },
  {
   "cell_type": "code",
   "execution_count": 28,
   "metadata": {},
   "outputs": [
    {
     "name": "stdout",
     "output_type": "stream",
     "text": [
      "Found cointegrated pair: eth_price and neo_price\n",
      "Found cointegrated pair: eth_price and zec_price\n"
     ]
    }
   ],
   "source": [
    "cointegrated_pairs = []\n",
    "for u, v in combinations(prices_df.columns, 2):\n",
    "        # print(f\"Testing {u} and {v}\")\n",
    "        if u != v:\n",
    "            if (engle_granger(u, v, 0.20)):\n",
    "                print(f\"Found cointegrated pair: {u} and {v}\")\n",
    "                cointegrated_pairs.append((u, v))"
   ]
  },
  {
   "cell_type": "code",
   "execution_count": 34,
   "metadata": {},
   "outputs": [
    {
     "data": {
      "image/png": "[encoded data removed]",
      "text/plain": [
       "<Figure size 576x432 with 1 Axes>"
      ]
     },
     "metadata": {
      "needs_background": "light"
     },
     "output_type": "display_data"
    },
    {
     "data": {
      "image/png": "[encoded data removed]",
      "text/plain": [
       "<Figure size 576x432 with 1 Axes>"
      ]
     },
     "metadata": {
      "needs_background": "light"
     },
     "output_type": "display_data"
    }
   ],
   "source": [
    "# Plot the cointegrated pairs\n",
    "for pair in cointegrated_pairs:\n",
    "    plt.figure(figsize = (8, 6))\n",
    "    plt.plot(np.log(prices_df[pair[0]]), label = pair[0])\n",
    "    plt.plot(np.log(prices_df[pair[1]]), label = pair[1])\n",
    "    plt.legend()\n",
    "    plt.show()\n",
    "plt.show()"
   ]
  },
  {
   "cell_type": "code",
   "execution_count": null,
   "metadata": {},
   "outputs": [],
   "source": []
  }
 ],
 "metadata": {
  "kernelspec": {
   "display_name": "Python 3.8.8 ('base')",
   "language": "python",
   "name": "python3"
  },
  "language_info": {
   "codemirror_mode": {
    "name": "ipython",
    "version": 3
   },
   "file_extension": ".py",
   "mimetype": "text/x-python",
   "name": "python",
   "nbconvert_exporter": "python",
   "pygments_lexer": "ipython3",
   "version": "3.8.8"
  },
  "orig_nbformat": 4,
  "vscode": {
   "interpreter": {
    "hash": "3a08e08fd294ac885f4641f577411b70b09ed9f084debb702e8d86e4a0f75dfd"
   }
  }
 },
 "nbformat": 4,
 "nbformat_minor": 2
}
