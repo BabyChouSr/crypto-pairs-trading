{
 "cells": [
  {
   "cell_type": "code",
   "execution_count": 31,
   "metadata": {},
   "outputs": [],
   "source": [
    "import pandas as pd\n",
    "from statsmodels.tsa.stattools import coint\n",
    "from itertools import combinations\n",
    "import matplotlib.pyplot as plt\n",
    "import numpy as np"
   ]
  },
  {
   "cell_type": "code",
   "execution_count": 47,
   "metadata": {},
   "outputs": [],
   "source": [
    "SIZE = 4000"
   ]
  },
  {
   "cell_type": "code",
   "execution_count": 48,
   "metadata": {},
   "outputs": [
    {
     "data": {
      "text/html": [
       "<div>\n",
       "<style scoped>\n",
       "    .dataframe tbody tr th:only-of-type {\n",
       "        vertical-align: middle;\n",
       "    }\n",
       "\n",
       "    .dataframe tbody tr th {\n",
       "        vertical-align: top;\n",
       "    }\n",
       "\n",
       "    .dataframe thead th {\n",
       "        text-align: right;\n",
       "    }\n",
       "</style>\n",
       "<table border=\"1\" class=\"dataframe\">\n",
       "  <thead>\n",
       "    <tr style=\"text-align: right;\">\n",
       "      <th></th>\n",
       "      <th>time</th>\n",
       "      <th>btc_price</th>\n",
       "      <th>eth_price</th>\n",
       "      <th>ltc_price</th>\n",
       "      <th>neo_price</th>\n",
       "      <th>xmr_price</th>\n",
       "      <th>xrp_price</th>\n",
       "      <th>zec_price</th>\n",
       "    </tr>\n",
       "  </thead>\n",
       "  <tbody>\n",
       "    <tr>\n",
       "      <th>0</th>\n",
       "      <td>2022-01-01 08:00:00</td>\n",
       "      <td>47203.308183</td>\n",
       "      <td>3715.50000</td>\n",
       "      <td>148.10</td>\n",
       "      <td>26.249000</td>\n",
       "      <td>243.970000</td>\n",
       "      <td>0.84093</td>\n",
       "      <td>NaN</td>\n",
       "    </tr>\n",
       "    <tr>\n",
       "      <th>15</th>\n",
       "      <td>2022-01-01 08:15:00</td>\n",
       "      <td>47238.158052</td>\n",
       "      <td>3719.90000</td>\n",
       "      <td>148.57</td>\n",
       "      <td>26.257250</td>\n",
       "      <td>243.710000</td>\n",
       "      <td>0.84240</td>\n",
       "      <td>148.526667</td>\n",
       "    </tr>\n",
       "    <tr>\n",
       "      <th>30</th>\n",
       "      <td>2022-01-01 08:30:00</td>\n",
       "      <td>47275.000000</td>\n",
       "      <td>3722.30000</td>\n",
       "      <td>148.51</td>\n",
       "      <td>26.249000</td>\n",
       "      <td>243.275000</td>\n",
       "      <td>0.84149</td>\n",
       "      <td>148.270000</td>\n",
       "    </tr>\n",
       "    <tr>\n",
       "      <th>44</th>\n",
       "      <td>2022-01-01 08:45:00</td>\n",
       "      <td>47248.000000</td>\n",
       "      <td>3726.41216</td>\n",
       "      <td>148.24</td>\n",
       "      <td>26.247750</td>\n",
       "      <td>244.823333</td>\n",
       "      <td>0.84170</td>\n",
       "      <td>148.448750</td>\n",
       "    </tr>\n",
       "    <tr>\n",
       "      <th>59</th>\n",
       "      <td>2022-01-01 09:00:00</td>\n",
       "      <td>47160.000000</td>\n",
       "      <td>3724.80000</td>\n",
       "      <td>148.12</td>\n",
       "      <td>26.219625</td>\n",
       "      <td>244.387500</td>\n",
       "      <td>0.83961</td>\n",
       "      <td>147.772000</td>\n",
       "    </tr>\n",
       "  </tbody>\n",
       "</table>\n",
       "</div>"
      ],
      "text/plain": [
       "                  time     btc_price   eth_price  ltc_price  neo_price  \\\n",
       "0  2022-01-01 08:00:00  47203.308183  3715.50000     148.10  26.249000   \n",
       "15 2022-01-01 08:15:00  47238.158052  3719.90000     148.57  26.257250   \n",
       "30 2022-01-01 08:30:00  47275.000000  3722.30000     148.51  26.249000   \n",
       "44 2022-01-01 08:45:00  47248.000000  3726.41216     148.24  26.247750   \n",
       "59 2022-01-01 09:00:00  47160.000000  3724.80000     148.12  26.219625   \n",
       "\n",
       "     xmr_price  xrp_price   zec_price  \n",
       "0   243.970000    0.84093         NaN  \n",
       "15  243.710000    0.84240  148.526667  \n",
       "30  243.275000    0.84149  148.270000  \n",
       "44  244.823333    0.84170  148.448750  \n",
       "59  244.387500    0.83961  147.772000  "
      ]
     },
     "execution_count": 48,
     "metadata": {},
     "output_type": "execute_result"
    }
   ],
   "source": [
    "# Read in the data file \n",
    "df = pd.read_csv(\"all_prices.csv\", parse_dates = [\"time\"])\n",
    "start_date = '2022-01-01'  # extract the date from filename here\n",
    "end_date = '2022-12-01'\n",
    "\n",
    "# Get every row from the start date to the end data in 15 minute intervals\n",
    "df = df[(df['time'] > start_date) & (df['time'] < end_date)]\n",
    "df = df[df['time'].dt.minute % 15 == 0]\n",
    "df.head()"
   ]
  },
  {
   "cell_type": "code",
   "execution_count": 51,
   "metadata": {},
   "outputs": [
    {
     "data": {
      "text/html": [
       "<div>\n",
       "<style scoped>\n",
       "    .dataframe tbody tr th:only-of-type {\n",
       "        vertical-align: middle;\n",
       "    }\n",
       "\n",
       "    .dataframe tbody tr th {\n",
       "        vertical-align: top;\n",
       "    }\n",
       "\n",
       "    .dataframe thead th {\n",
       "        text-align: right;\n",
       "    }\n",
       "</style>\n",
       "<table border=\"1\" class=\"dataframe\">\n",
       "  <thead>\n",
       "    <tr style=\"text-align: right;\">\n",
       "      <th></th>\n",
       "      <th>time</th>\n",
       "      <th>btc_price</th>\n",
       "      <th>eth_price</th>\n",
       "      <th>ltc_price</th>\n",
       "      <th>neo_price</th>\n",
       "      <th>xmr_price</th>\n",
       "      <th>xrp_price</th>\n",
       "      <th>zec_price</th>\n",
       "    </tr>\n",
       "  </thead>\n",
       "  <tbody>\n",
       "    <tr>\n",
       "      <th>411924</th>\n",
       "      <td>2022-10-15 12:15:00</td>\n",
       "      <td>19163.0</td>\n",
       "      <td>1286.7</td>\n",
       "      <td>51.6000</td>\n",
       "      <td>7.806050</td>\n",
       "      <td>140.770000</td>\n",
       "      <td>0.485580</td>\n",
       "      <td>50.507000</td>\n",
       "    </tr>\n",
       "    <tr>\n",
       "      <th>411939</th>\n",
       "      <td>2022-10-15 12:30:00</td>\n",
       "      <td>19191.0</td>\n",
       "      <td>1288.3</td>\n",
       "      <td>51.6480</td>\n",
       "      <td>7.818322</td>\n",
       "      <td>141.100000</td>\n",
       "      <td>0.485945</td>\n",
       "      <td>50.618000</td>\n",
       "    </tr>\n",
       "    <tr>\n",
       "      <th>411954</th>\n",
       "      <td>2022-10-15 12:45:00</td>\n",
       "      <td>19185.0</td>\n",
       "      <td>1287.6</td>\n",
       "      <td>51.5865</td>\n",
       "      <td>7.820233</td>\n",
       "      <td>141.440000</td>\n",
       "      <td>0.485880</td>\n",
       "      <td>50.596800</td>\n",
       "    </tr>\n",
       "    <tr>\n",
       "      <th>411969</th>\n",
       "      <td>2022-10-15 13:00:00</td>\n",
       "      <td>19177.0</td>\n",
       "      <td>1285.9</td>\n",
       "      <td>51.4810</td>\n",
       "      <td>7.810500</td>\n",
       "      <td>141.045714</td>\n",
       "      <td>0.485030</td>\n",
       "      <td>50.556273</td>\n",
       "    </tr>\n",
       "    <tr>\n",
       "      <th>411984</th>\n",
       "      <td>2022-10-15 13:15:00</td>\n",
       "      <td>19156.0</td>\n",
       "      <td>1285.3</td>\n",
       "      <td>51.4570</td>\n",
       "      <td>7.784475</td>\n",
       "      <td>140.854286</td>\n",
       "      <td>0.483975</td>\n",
       "      <td>50.562750</td>\n",
       "    </tr>\n",
       "  </tbody>\n",
       "</table>\n",
       "</div>"
      ],
      "text/plain": [
       "                      time  btc_price  eth_price  ltc_price  neo_price  \\\n",
       "411924 2022-10-15 12:15:00    19163.0     1286.7    51.6000   7.806050   \n",
       "411939 2022-10-15 12:30:00    19191.0     1288.3    51.6480   7.818322   \n",
       "411954 2022-10-15 12:45:00    19185.0     1287.6    51.5865   7.820233   \n",
       "411969 2022-10-15 13:00:00    19177.0     1285.9    51.4810   7.810500   \n",
       "411984 2022-10-15 13:15:00    19156.0     1285.3    51.4570   7.784475   \n",
       "\n",
       "         xmr_price  xrp_price  zec_price  \n",
       "411924  140.770000   0.485580  50.507000  \n",
       "411939  141.100000   0.485945  50.618000  \n",
       "411954  141.440000   0.485880  50.596800  \n",
       "411969  141.045714   0.485030  50.556273  \n",
       "411984  140.854286   0.483975  50.562750  "
      ]
     },
     "execution_count": 51,
     "metadata": {},
     "output_type": "execute_result"
    }
   ],
   "source": [
    "df = df.tail(SIZE)\n",
    "df.head()"
   ]
  },
  {
   "cell_type": "code",
   "execution_count": 52,
   "metadata": {},
   "outputs": [
    {
     "data": {
      "text/html": [
       "<div>\n",
       "<style scoped>\n",
       "    .dataframe tbody tr th:only-of-type {\n",
       "        vertical-align: middle;\n",
       "    }\n",
       "\n",
       "    .dataframe tbody tr th {\n",
       "        vertical-align: top;\n",
       "    }\n",
       "\n",
       "    .dataframe thead th {\n",
       "        text-align: right;\n",
       "    }\n",
       "</style>\n",
       "<table border=\"1\" class=\"dataframe\">\n",
       "  <thead>\n",
       "    <tr style=\"text-align: right;\">\n",
       "      <th></th>\n",
       "      <th>btc_price</th>\n",
       "      <th>eth_price</th>\n",
       "      <th>ltc_price</th>\n",
       "      <th>neo_price</th>\n",
       "      <th>xmr_price</th>\n",
       "      <th>xrp_price</th>\n",
       "      <th>zec_price</th>\n",
       "    </tr>\n",
       "  </thead>\n",
       "  <tbody>\n",
       "    <tr>\n",
       "      <th>411924</th>\n",
       "      <td>19163.0</td>\n",
       "      <td>1286.7</td>\n",
       "      <td>51.6000</td>\n",
       "      <td>7.806050</td>\n",
       "      <td>140.770000</td>\n",
       "      <td>0.485580</td>\n",
       "      <td>50.507000</td>\n",
       "    </tr>\n",
       "    <tr>\n",
       "      <th>411939</th>\n",
       "      <td>19191.0</td>\n",
       "      <td>1288.3</td>\n",
       "      <td>51.6480</td>\n",
       "      <td>7.818322</td>\n",
       "      <td>141.100000</td>\n",
       "      <td>0.485945</td>\n",
       "      <td>50.618000</td>\n",
       "    </tr>\n",
       "    <tr>\n",
       "      <th>411954</th>\n",
       "      <td>19185.0</td>\n",
       "      <td>1287.6</td>\n",
       "      <td>51.5865</td>\n",
       "      <td>7.820233</td>\n",
       "      <td>141.440000</td>\n",
       "      <td>0.485880</td>\n",
       "      <td>50.596800</td>\n",
       "    </tr>\n",
       "    <tr>\n",
       "      <th>411969</th>\n",
       "      <td>19177.0</td>\n",
       "      <td>1285.9</td>\n",
       "      <td>51.4810</td>\n",
       "      <td>7.810500</td>\n",
       "      <td>141.045714</td>\n",
       "      <td>0.485030</td>\n",
       "      <td>50.556273</td>\n",
       "    </tr>\n",
       "    <tr>\n",
       "      <th>411984</th>\n",
       "      <td>19156.0</td>\n",
       "      <td>1285.3</td>\n",
       "      <td>51.4570</td>\n",
       "      <td>7.784475</td>\n",
       "      <td>140.854286</td>\n",
       "      <td>0.483975</td>\n",
       "      <td>50.562750</td>\n",
       "    </tr>\n",
       "  </tbody>\n",
       "</table>\n",
       "</div>"
      ],
      "text/plain": [
       "        btc_price  eth_price  ltc_price  neo_price   xmr_price  xrp_price  \\\n",
       "411924    19163.0     1286.7    51.6000   7.806050  140.770000   0.485580   \n",
       "411939    19191.0     1288.3    51.6480   7.818322  141.100000   0.485945   \n",
       "411954    19185.0     1287.6    51.5865   7.820233  141.440000   0.485880   \n",
       "411969    19177.0     1285.9    51.4810   7.810500  141.045714   0.485030   \n",
       "411984    19156.0     1285.3    51.4570   7.784475  140.854286   0.483975   \n",
       "\n",
       "        zec_price  \n",
       "411924  50.507000  \n",
       "411939  50.618000  \n",
       "411954  50.596800  \n",
       "411969  50.556273  \n",
       "411984  50.562750  "
      ]
     },
     "execution_count": 52,
     "metadata": {},
     "output_type": "execute_result"
    }
   ],
   "source": [
    "prices_df = df.drop(\"time\", axis = 1)\n",
    "prices_df.dropna(axis = 1, inplace = True)\n",
    "prices_df.head()"
   ]
  },
  {
   "cell_type": "code",
   "execution_count": 53,
   "metadata": {},
   "outputs": [],
   "source": [
    "def engle_granger(ticker1, ticker2, threshold):\n",
    "    \"\"\"Returns true if we reject the null hypothesis and therefore there is cointegration\"\"\"\n",
    "    test_result = coint(prices_df[ticker1], prices_df[ticker2])\n",
    "    return test_result[1] <= threshold"
   ]
  },
  {
   "cell_type": "code",
   "execution_count": 54,
   "metadata": {},
   "outputs": [
    {
     "name": "stdout",
     "output_type": "stream",
     "text": [
      "Found cointegrated pair: btc_price and neo_price\n",
      "Found cointegrated pair: neo_price and xmr_price\n",
      "Found cointegrated pair: neo_price and xrp_price\n",
      "Found cointegrated pair: xmr_price and xrp_price\n",
      "Found cointegrated pair: xrp_price and zec_price\n"
     ]
    }
   ],
   "source": [
    "cointegrated_pairs = []\n",
    "for u, v in combinations(prices_df.columns, 2):\n",
    "        # print(f\"Testing {u} and {v}\")\n",
    "        if u != v:\n",
    "            if (engle_granger(u, v, 0.20)):\n",
    "                print(f\"Found cointegrated pair: {u} and {v}\")\n",
    "                cointegrated_pairs.append((u, v))"
   ]
  },
  {
   "cell_type": "code",
   "execution_count": 55,
   "metadata": {},
   "outputs": [
    {
     "data": {
      "image/png": "[encoded data removed]",
      "text/plain": [
       "<Figure size 432x288 with 1 Axes>"
      ]
     },
     "metadata": {
      "needs_background": "light"
     },
     "output_type": "display_data"
    },
    {
     "data": {
      "image/png": "[encoded data removed]",
      "text/plain": [
       "<Figure size 432x288 with 1 Axes>"
      ]
     },
     "metadata": {
      "needs_background": "light"
     },
     "output_type": "display_data"
    },
    {
     "data": {
      "image/png": "[encoded data removed]",
      "text/plain": [
       "<Figure size 432x288 with 1 Axes>"
      ]
     },
     "metadata": {
      "needs_background": "light"
     },
     "output_type": "display_data"
    },
    {
     "data": {
      "image/png": "[encoded data removed]",
      "text/plain": [
       "<Figure size 432x288 with 1 Axes>"
      ]
     },
     "metadata": {
      "needs_background": "light"
     },
     "output_type": "display_data"
    },
    {
     "data": {
      "image/png": "[encoded data removed]",
      "text/plain": [
       "<Figure size 432x288 with 1 Axes>"
      ]
     },
     "metadata": {
      "needs_background": "light"
     },
     "output_type": "display_data"
    }
   ],
   "source": [
    "# Plot the cointegrated pairs\n",
    "for pair in cointegrated_pairs:\n",
    "    plt.figure(figsize = (6, 4))\n",
    "    plt.plot(np.log(prices_df[pair[0]]), label = pair[0])\n",
    "    plt.plot(np.log(prices_df[pair[1]]), label = pair[1])\n",
    "    plt.legend()\n",
    "    plt.show()\n",
    "plt.show()"
   ]
  },
  {
   "cell_type": "code",
   "execution_count": null,
   "metadata": {},
   "outputs": [],
   "source": []
  }
 ],
 "metadata": {
  "kernelspec": {
   "display_name": "Python 3.9.0 64-bit",
   "language": "python",
   "name": "python3"
  },
  "language_info": {
   "codemirror_mode": {
    "name": "ipython",
    "version": 3
   },
   "file_extension": ".py",
   "mimetype": "text/x-python",
   "name": "python",
   "nbconvert_exporter": "python",
   "pygments_lexer": "ipython3",
   "version": "3.9.0"
  },
  "orig_nbformat": 4,
  "vscode": {
   "interpreter": {
    "hash": "dc5eb0c90e2f6c976a983a2fa1f7afdeb9926592d32c540a8be7fcdb78a03d65"
   }
  }
 },
 "nbformat": 4,
 "nbformat_minor": 2
}
