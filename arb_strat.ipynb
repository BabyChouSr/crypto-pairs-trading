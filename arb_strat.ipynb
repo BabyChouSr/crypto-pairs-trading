{
 "cells": [
  {
   "cell_type": "code",
   "execution_count": 1,
   "metadata": {},
   "outputs": [],
   "source": [
    "### given a few pairs of cointegrated coins, use Kalman filtering to calculate the moving slope and intercept between the two coins\n",
    "# use moving slope and intercepts to calculate spread functions for the pairs\n",
    "# use the spread functions to calculate points in the time series where spread is 1.96 SD above or below mean\n",
    "# optional: use this strategy starting with imaginary 1k to plot equity over time. ###"
   ]
  },
  {
   "cell_type": "code",
   "execution_count": null,
   "metadata": {},
   "outputs": [],
   "source": []
  }
 ],
 "metadata": {
  "kernelspec": {
   "display_name": "Python 3.9.0 64-bit",
   "language": "python",
   "name": "python3"
  },
  "language_info": {
   "codemirror_mode": {
    "name": "ipython",
    "version": 3
   },
   "file_extension": ".py",
   "mimetype": "text/x-python",
   "name": "python",
   "nbconvert_exporter": "python",
   "pygments_lexer": "ipython3",
   "version": "3.9.0"
  },
  "orig_nbformat": 4,
  "vscode": {
   "interpreter": {
    "hash": "dc5eb0c90e2f6c976a983a2fa1f7afdeb9926592d32c540a8be7fcdb78a03d65"
   }
  }
 },
 "nbformat": 4,
 "nbformat_minor": 2
}
